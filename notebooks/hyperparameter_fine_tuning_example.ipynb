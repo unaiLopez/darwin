{
 "cells": [
  {
   "cell_type": "code",
   "execution_count": 21,
   "id": "1cac853b",
   "metadata": {},
   "outputs": [],
   "source": [
    "import sys\n",
    "import os\n",
    "\n",
    "import numpy as np\n",
    "import pandas as pd\n",
    "import warnings\n",
    "warnings.filterwarnings('ignore')\n",
    "\n",
    "sys.path.append(f'{os.getcwd()}/../src')\n",
    "                \n",
    "from genetist import Genetist"
   ]
  },
  {
   "cell_type": "code",
   "execution_count": 22,
   "id": "3eb06386",
   "metadata": {},
   "outputs": [],
   "source": [
    "from sklearn.model_selection import KFold\n",
    "from sklearn.metrics import mean_absolute_error\n",
    "from lightgbm import LGBMRegressor"
   ]
  },
  {
   "cell_type": "code",
   "execution_count": 23,
   "id": "a7381d86",
   "metadata": {},
   "outputs": [],
   "source": [
    "fixed_params = {\n",
    "    'max_depth': list(range(1, 15)),\n",
    "    'n_estimators': list(range(20, 200)),\n",
    "    'learning_rate': [0.0005, 0.001, 0.01, 0.05, 0.1],\n",
    "    'objective': ['regression', 'regression_l1']\n",
    "}\n",
    "\n",
    "params_space = {\n",
    "    'max_depth': {'low': 1, 'high': 15},\n",
    "    'learning_rate': {'low': 0.0005, 'high': 0.1},\n",
    "    'n_estimators': {'low': 20, 'high': 200},\n",
    "    'objective': {'choices': ['regression', 'regression_l1']},\n",
    "}\n",
    "\n",
    "def objective(individual):\n",
    "    df = pd.read_csv('../datasets/california_housing.csv')\n",
    "    df = pd.get_dummies(df, drop_first=True, dummy_na=True)    \n",
    "    df.dropna(how='any', axis=0, inplace=True)\n",
    "    \n",
    "    X = df.drop('median_house_value', axis=1)\n",
    "    y = df['median_house_value']\n",
    "    \n",
    "    max_depth = individual['max_depth']\n",
    "    learning_rate = individual['learning_rate']\n",
    "    n_estimators = individual['n_estimators']\n",
    "    objective = individual['objective']\n",
    "    \n",
    "    maes = list()\n",
    "    kf = KFold(n_splits=3)\n",
    "    for train_indexes, test_indexes in kf.split(X):\n",
    "        X_train, X_test = X.iloc[train_indexes, :], X.iloc[test_indexes, :]\n",
    "        y_train, y_test = y.iloc[train_indexes], y.iloc[test_indexes]\n",
    "        \n",
    "        model = LGBMRegressor(max_depth=max_depth, learning_rate=learning_rate, n_estimators=n_estimators, objective=objective, n_jobs=2)\n",
    "        model.fit(X_train, y_train)\n",
    "        predictions = model.predict(X_test)\n",
    "        \n",
    "        mae = mean_absolute_error(y_test, predictions)\n",
    "        maes.append(mae)\n",
    "    \n",
    "    return np.mean(maes)"
   ]
  },
  {
   "cell_type": "code",
   "execution_count": 24,
   "id": "cadc3d4f",
   "metadata": {
    "scrolled": false
   },
   "outputs": [
    {
     "name": "stderr",
     "output_type": "stream",
     "text": [
      "RUNNING GENERATION 1:  10%|██▏                   | 1/10 [00:06<00:57,  6.39s/it]"
     ]
    },
    {
     "name": "stdout",
     "output_type": "stream",
     "text": [
      "THE BEST SOLUTION IN GENERATION 1 IS: [10, 0.07103406275114463, 177, 'regression'] WITH A SCORE OF 47010.06250570473\n"
     ]
    },
    {
     "name": "stderr",
     "output_type": "stream",
     "text": [
      "RUNNING GENERATION 2:  20%|████▍                 | 2/10 [00:15<01:02,  7.82s/it]"
     ]
    },
    {
     "name": "stdout",
     "output_type": "stream",
     "text": [
      "THE BEST SOLUTION IN GENERATION 2 IS: [10, 0.07103406275114463, 177, 'regression'] WITH A SCORE OF 47010.06250570473\n"
     ]
    },
    {
     "name": "stderr",
     "output_type": "stream",
     "text": [
      "RUNNING GENERATION 3:  30%|██████▌               | 3/10 [00:24<01:00,  8.57s/it]"
     ]
    },
    {
     "name": "stdout",
     "output_type": "stream",
     "text": [
      "THE BEST SOLUTION IN GENERATION 3 IS: [10, 0.07103406275114463, 177, 'regression'] WITH A SCORE OF 47010.06250570473\n"
     ]
    },
    {
     "name": "stderr",
     "output_type": "stream",
     "text": [
      "RUNNING GENERATION 4:  40%|████████▊             | 4/10 [00:34<00:55,  9.23s/it]"
     ]
    },
    {
     "name": "stdout",
     "output_type": "stream",
     "text": [
      "THE BEST SOLUTION IN GENERATION 4 IS: [7, 0.07103406275114463, 177, 'regression_l1'] WITH A SCORE OF 45766.59055440472\n"
     ]
    },
    {
     "name": "stderr",
     "output_type": "stream",
     "text": [
      "RUNNING GENERATION 5:  50%|███████████           | 5/10 [00:44<00:47,  9.54s/it]"
     ]
    },
    {
     "name": "stdout",
     "output_type": "stream",
     "text": [
      "THE BEST SOLUTION IN GENERATION 5 IS: [15, 0.07103406275114463, 177, 'regression_l1'] WITH A SCORE OF 45623.06412426286\n"
     ]
    },
    {
     "name": "stderr",
     "output_type": "stream",
     "text": [
      "RUNNING GENERATION 6:  60%|█████████████▏        | 6/10 [00:55<00:39,  9.98s/it]"
     ]
    },
    {
     "name": "stdout",
     "output_type": "stream",
     "text": [
      "THE BEST SOLUTION IN GENERATION 6 IS: [15, 0.07103406275114463, 177, 'regression_l1'] WITH A SCORE OF 45623.06412426286\n"
     ]
    },
    {
     "name": "stderr",
     "output_type": "stream",
     "text": [
      "RUNNING GENERATION 7:  70%|███████████████▍      | 7/10 [01:07<00:31, 10.39s/it]"
     ]
    },
    {
     "name": "stdout",
     "output_type": "stream",
     "text": [
      "THE BEST SOLUTION IN GENERATION 7 IS: [15, 0.07103406275114463, 177, 'regression_l1'] WITH A SCORE OF 45623.06412426286\n"
     ]
    },
    {
     "name": "stderr",
     "output_type": "stream",
     "text": [
      "RUNNING GENERATION 8:  80%|█████████████████▌    | 8/10 [01:18<00:21, 10.64s/it]"
     ]
    },
    {
     "name": "stdout",
     "output_type": "stream",
     "text": [
      "THE BEST SOLUTION IN GENERATION 8 IS: [15, 0.07103406275114463, 197, 'regression_l1'] WITH A SCORE OF 45453.46420627446\n"
     ]
    },
    {
     "name": "stderr",
     "output_type": "stream",
     "text": [
      "RUNNING GENERATION 9:  90%|███████████████████▊  | 9/10 [01:30<00:11, 11.06s/it]"
     ]
    },
    {
     "name": "stdout",
     "output_type": "stream",
     "text": [
      "THE BEST SOLUTION IN GENERATION 9 IS: [15, 0.07103406275114463, 197, 'regression_l1'] WITH A SCORE OF 45453.46420627446\n"
     ]
    },
    {
     "name": "stderr",
     "output_type": "stream",
     "text": [
      "RUNNING GENERATION 10: 100%|████████████████████| 10/10 [01:42<00:00, 10.27s/it]"
     ]
    },
    {
     "name": "stdout",
     "output_type": "stream",
     "text": [
      "THE BEST SOLUTION IN GENERATION 10 IS: [15, 0.07103406275114463, 197, 'regression_l1'] WITH A SCORE OF 45453.46420627446\n",
      "\n",
      "EXECUTION TIME=0 hours 01 minutes 42.727146 seconds\n",
      "BEST SCORE=45453.46420627446\n",
      "BEST INDIVIDUAL=[15, 0.07103406275114463, 197, 'regression_l1']\n",
      "BEST PER GENERATION:\n"
     ]
    },
    {
     "name": "stderr",
     "output_type": "stream",
     "text": [
      "\n"
     ]
    },
    {
     "data": {
      "text/html": [
       "<div>\n",
       "<style scoped>\n",
       "    .dataframe tbody tr th:only-of-type {\n",
       "        vertical-align: middle;\n",
       "    }\n",
       "\n",
       "    .dataframe tbody tr th {\n",
       "        vertical-align: top;\n",
       "    }\n",
       "\n",
       "    .dataframe thead th {\n",
       "        text-align: right;\n",
       "    }\n",
       "</style>\n",
       "<table border=\"1\" class=\"dataframe\">\n",
       "  <thead>\n",
       "    <tr style=\"text-align: right;\">\n",
       "      <th></th>\n",
       "      <th>GENERATION</th>\n",
       "      <th>BEST_SCORE</th>\n",
       "      <th>BEST_INDIVIDUAL</th>\n",
       "      <th>max_depth</th>\n",
       "      <th>learning_rate</th>\n",
       "      <th>n_estimators</th>\n",
       "      <th>objective</th>\n",
       "    </tr>\n",
       "  </thead>\n",
       "  <tbody>\n",
       "    <tr>\n",
       "      <th>7</th>\n",
       "      <td>8</td>\n",
       "      <td>45453.464206</td>\n",
       "      <td>[15, 0.07103406275114463, 197, regression_l1]</td>\n",
       "      <td>15</td>\n",
       "      <td>0.071034</td>\n",
       "      <td>197</td>\n",
       "      <td>regression_l1</td>\n",
       "    </tr>\n",
       "    <tr>\n",
       "      <th>8</th>\n",
       "      <td>9</td>\n",
       "      <td>45453.464206</td>\n",
       "      <td>[15, 0.07103406275114463, 197, regression_l1]</td>\n",
       "      <td>15</td>\n",
       "      <td>0.071034</td>\n",
       "      <td>197</td>\n",
       "      <td>regression_l1</td>\n",
       "    </tr>\n",
       "    <tr>\n",
       "      <th>9</th>\n",
       "      <td>10</td>\n",
       "      <td>45453.464206</td>\n",
       "      <td>[15, 0.07103406275114463, 197, regression_l1]</td>\n",
       "      <td>15</td>\n",
       "      <td>0.071034</td>\n",
       "      <td>197</td>\n",
       "      <td>regression_l1</td>\n",
       "    </tr>\n",
       "    <tr>\n",
       "      <th>4</th>\n",
       "      <td>5</td>\n",
       "      <td>45623.064124</td>\n",
       "      <td>[15, 0.07103406275114463, 177, regression_l1]</td>\n",
       "      <td>15</td>\n",
       "      <td>0.071034</td>\n",
       "      <td>177</td>\n",
       "      <td>regression_l1</td>\n",
       "    </tr>\n",
       "    <tr>\n",
       "      <th>5</th>\n",
       "      <td>6</td>\n",
       "      <td>45623.064124</td>\n",
       "      <td>[15, 0.07103406275114463, 177, regression_l1]</td>\n",
       "      <td>15</td>\n",
       "      <td>0.071034</td>\n",
       "      <td>177</td>\n",
       "      <td>regression_l1</td>\n",
       "    </tr>\n",
       "    <tr>\n",
       "      <th>6</th>\n",
       "      <td>7</td>\n",
       "      <td>45623.064124</td>\n",
       "      <td>[15, 0.07103406275114463, 177, regression_l1]</td>\n",
       "      <td>15</td>\n",
       "      <td>0.071034</td>\n",
       "      <td>177</td>\n",
       "      <td>regression_l1</td>\n",
       "    </tr>\n",
       "    <tr>\n",
       "      <th>3</th>\n",
       "      <td>4</td>\n",
       "      <td>45766.590554</td>\n",
       "      <td>[7, 0.07103406275114463, 177, regression_l1]</td>\n",
       "      <td>7</td>\n",
       "      <td>0.071034</td>\n",
       "      <td>177</td>\n",
       "      <td>regression_l1</td>\n",
       "    </tr>\n",
       "    <tr>\n",
       "      <th>0</th>\n",
       "      <td>1</td>\n",
       "      <td>47010.062506</td>\n",
       "      <td>[10, 0.07103406275114463, 177, regression]</td>\n",
       "      <td>10</td>\n",
       "      <td>0.071034</td>\n",
       "      <td>177</td>\n",
       "      <td>regression</td>\n",
       "    </tr>\n",
       "    <tr>\n",
       "      <th>1</th>\n",
       "      <td>2</td>\n",
       "      <td>47010.062506</td>\n",
       "      <td>[10, 0.07103406275114463, 177, regression]</td>\n",
       "      <td>10</td>\n",
       "      <td>0.071034</td>\n",
       "      <td>177</td>\n",
       "      <td>regression</td>\n",
       "    </tr>\n",
       "    <tr>\n",
       "      <th>2</th>\n",
       "      <td>3</td>\n",
       "      <td>47010.062506</td>\n",
       "      <td>[10, 0.07103406275114463, 177, regression]</td>\n",
       "      <td>10</td>\n",
       "      <td>0.071034</td>\n",
       "      <td>177</td>\n",
       "      <td>regression</td>\n",
       "    </tr>\n",
       "  </tbody>\n",
       "</table>\n",
       "</div>"
      ],
      "text/plain": [
       "   GENERATION    BEST_SCORE                                BEST_INDIVIDUAL  \\\n",
       "7           8  45453.464206  [15, 0.07103406275114463, 197, regression_l1]   \n",
       "8           9  45453.464206  [15, 0.07103406275114463, 197, regression_l1]   \n",
       "9          10  45453.464206  [15, 0.07103406275114463, 197, regression_l1]   \n",
       "4           5  45623.064124  [15, 0.07103406275114463, 177, regression_l1]   \n",
       "5           6  45623.064124  [15, 0.07103406275114463, 177, regression_l1]   \n",
       "6           7  45623.064124  [15, 0.07103406275114463, 177, regression_l1]   \n",
       "3           4  45766.590554   [7, 0.07103406275114463, 177, regression_l1]   \n",
       "0           1  47010.062506     [10, 0.07103406275114463, 177, regression]   \n",
       "1           2  47010.062506     [10, 0.07103406275114463, 177, regression]   \n",
       "2           3  47010.062506     [10, 0.07103406275114463, 177, regression]   \n",
       "\n",
       "   max_depth  learning_rate  n_estimators      objective  \n",
       "7         15       0.071034           197  regression_l1  \n",
       "8         15       0.071034           197  regression_l1  \n",
       "9         15       0.071034           197  regression_l1  \n",
       "4         15       0.071034           177  regression_l1  \n",
       "5         15       0.071034           177  regression_l1  \n",
       "6         15       0.071034           177  regression_l1  \n",
       "3          7       0.071034           177  regression_l1  \n",
       "0         10       0.071034           177     regression  \n",
       "1         10       0.071034           177     regression  \n",
       "2         10       0.071034           177     regression  "
      ]
     },
     "metadata": {},
     "output_type": "display_data"
    }
   ],
   "source": [
    "genetist = Genetist(\n",
    "    objective=objective,\n",
    "    params=params_space,\n",
    "    num_population=20,\n",
    "    generations=10,\n",
    "    elite_rate=0.1,\n",
    "    prob_mutation=0.1,\n",
    "    direction='minimize',\n",
    "    verbose=True\n",
    ")\n",
    "\n",
    "results = genetist.run_evolution()\n",
    "\n",
    "print()\n",
    "print(f'EXECUTION TIME={results.execution_time}')\n",
    "print(f'BEST SCORE={results.best_score}')\n",
    "print(f'BEST INDIVIDUAL={results.best_individual}')\n",
    "print('BEST PER GENERATION:')\n",
    "display(results.best_per_generation_dataframe)"
   ]
  },
  {
   "cell_type": "code",
   "execution_count": 25,
   "id": "10a38720",
   "metadata": {},
   "outputs": [
    {
     "data": {
      "text/plain": [
       "<AxesSubplot:>"
      ]
     },
     "execution_count": 25,
     "metadata": {},
     "output_type": "execute_result"
    },
    {
     "data": {
      "image/png": "[encoded data removed]",
      "text/plain": [
       "<Figure size 864x432 with 1 Axes>"
      ]
     },
     "metadata": {
      "needs_background": "light"
     },
     "output_type": "display_data"
    }
   ],
   "source": [
    "df_plot = results.best_per_generation_dataframe.sort_values(by=['GENERATION'])\n",
    "df_plot.BEST_SCORE.plot(figsize=(12,6))"
   ]
  },
  {
   "cell_type": "code",
   "execution_count": null,
   "id": "825a0b83",
   "metadata": {},
   "outputs": [],
   "source": []
  }
 ],
 "metadata": {
  "kernelspec": {
   "display_name": "ml",
   "language": "python",
   "name": "ml"
  },
  "language_info": {
   "codemirror_mode": {
    "name": "ipython",
    "version": 3
   },
   "file_extension": ".py",
   "mimetype": "text/x-python",
   "name": "python",
   "nbconvert_exporter": "python",
   "pygments_lexer": "ipython3",
   "version": "3.8.0"
  }
 },
 "nbformat": 4,
 "nbformat_minor": 5
}
