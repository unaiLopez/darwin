{
 "cells": [
  {
   "cell_type": "code",
   "execution_count": 1,
   "id": "1cac853b",
   "metadata": {},
   "outputs": [],
   "source": [
    "import sys\n",
    "import os\n",
    "\n",
    "import numpy as np\n",
    "import pandas as pd\n",
    "import warnings\n",
    "warnings.filterwarnings('ignore')\n",
    "\n",
    "sys.path.append(f'{os.getcwd()}/../src')\n",
    "                \n",
    "from genetist import Genetist"
   ]
  },
  {
   "cell_type": "code",
   "execution_count": 2,
   "id": "3eb06386",
   "metadata": {},
   "outputs": [],
   "source": [
    "from sklearn.model_selection import KFold\n",
    "from sklearn.metrics import mean_absolute_error\n",
    "from lightgbm import LGBMRegressor"
   ]
  },
  {
   "cell_type": "code",
   "execution_count": 3,
   "id": "a7381d86",
   "metadata": {},
   "outputs": [],
   "source": [
    "fixed_params = {\n",
    "    'max_depth': list(range(1, 15)),\n",
    "    'n_estimators': list(range(20, 200)),\n",
    "    'learning_rate': [0.0005, 0.001, 0.01, 0.05, 0.1],\n",
    "    'objective': ['regression', 'regression_l1']\n",
    "}\n",
    "\n",
    "params_space = {\n",
    "    'max_depth': {'low': 1, 'high': 15},\n",
    "    'learning_rate': {'low': 0.0005, 'high': 0.1},\n",
    "    'n_estimators': {'low': 20, 'high': 200},\n",
    "    'objective': {'choices': ['regression', 'regression_l1']},\n",
    "}\n",
    "\n",
    "def objective(individual):\n",
    "    df = pd.read_csv('../datasets/california_housing.csv')\n",
    "    df = pd.get_dummies(df, drop_first=True, dummy_na=True)    \n",
    "    df.dropna(how='any', axis=0, inplace=True)\n",
    "    \n",
    "    X = df.drop('median_house_value', axis=1)\n",
    "    y = df['median_house_value']\n",
    "    \n",
    "    max_depth = individual['max_depth']\n",
    "    learning_rate = individual['learning_rate']\n",
    "    n_estimators = individual['n_estimators']\n",
    "    objective = individual['objective']\n",
    "    \n",
    "    maes = list()\n",
    "    kf = KFold(n_splits=3)\n",
    "    for train_indexes, test_indexes in kf.split(X):\n",
    "        X_train, X_test = X.iloc[train_indexes, :], X.iloc[test_indexes, :]\n",
    "        y_train, y_test = y.iloc[train_indexes], y.iloc[test_indexes]\n",
    "        \n",
    "        model = LGBMRegressor(max_depth=max_depth, learning_rate=learning_rate, n_estimators=n_estimators, objective=objective, n_jobs=2)\n",
    "        model.fit(X_train, y_train)\n",
    "        predictions = model.predict(X_test)\n",
    "        \n",
    "        mae = mean_absolute_error(y_test, predictions)\n",
    "        maes.append(mae)\n",
    "    \n",
    "    return np.mean(maes)"
   ]
  },
  {
   "cell_type": "code",
   "execution_count": 4,
   "id": "cadc3d4f",
   "metadata": {
    "scrolled": false
   },
   "outputs": [
    {
     "name": "stderr",
     "output_type": "stream",
     "text": [
      "RUNNING GENERATION 1 | BEST SCORE IS 45983.06067469037:   3%|▎         | 1/30 [00:11<05:22, 11.12s/it]"
     ]
    },
    {
     "name": "stdout",
     "output_type": "stream",
     "text": [
      "THE BEST SOLUTION IN GENERATION 1 IS: {'max_depth': 9, 'learning_rate': 0.06121366351882034, 'n_estimators': 163, 'objective': 'regression_l1'}\n"
     ]
    },
    {
     "name": "stderr",
     "output_type": "stream",
     "text": [
      "RUNNING GENERATION 2 | BEST SCORE IS 45862.33433796277:   7%|▋         | 2/30 [00:24<05:46, 12.38s/it]"
     ]
    },
    {
     "name": "stdout",
     "output_type": "stream",
     "text": [
      "THE BEST SOLUTION IN GENERATION 2 IS: {'max_depth': 13, 'learning_rate': 0.06620300076589586, 'n_estimators': 186, 'objective': 'regression_l1'}\n"
     ]
    },
    {
     "name": "stderr",
     "output_type": "stream",
     "text": [
      "RUNNING GENERATION 3 | BEST SCORE IS 45430.72512792883:  10%|█         | 3/30 [00:40<06:17, 13.99s/it]"
     ]
    },
    {
     "name": "stdout",
     "output_type": "stream",
     "text": [
      "THE BEST SOLUTION IN GENERATION 3 IS: {'max_depth': 12, 'learning_rate': 0.07659821965048146, 'n_estimators': 163, 'objective': 'regression_l1'}\n"
     ]
    },
    {
     "name": "stderr",
     "output_type": "stream",
     "text": [
      "RUNNING GENERATION 4 | BEST SCORE IS 45430.72512792883:  13%|█▎        | 4/30 [00:56<06:29, 14.97s/it]"
     ]
    },
    {
     "name": "stdout",
     "output_type": "stream",
     "text": [
      "THE BEST SOLUTION IN GENERATION 4 IS: {'max_depth': 12, 'learning_rate': 0.07659821965048146, 'n_estimators': 163, 'objective': 'regression_l1'}\n"
     ]
    },
    {
     "name": "stderr",
     "output_type": "stream",
     "text": [
      "RUNNING GENERATION 5 | BEST SCORE IS 45430.72512792883:  17%|█▋        | 5/30 [01:14<06:38, 15.93s/it]"
     ]
    },
    {
     "name": "stdout",
     "output_type": "stream",
     "text": [
      "THE BEST SOLUTION IN GENERATION 5 IS: {'max_depth': 12, 'learning_rate': 0.07659821965048146, 'n_estimators': 163, 'objective': 'regression_l1'}\n"
     ]
    },
    {
     "name": "stderr",
     "output_type": "stream",
     "text": [
      "RUNNING GENERATION 6 | BEST SCORE IS 45410.97436604267:  20%|██        | 6/30 [01:31<06:29, 16.22s/it]"
     ]
    },
    {
     "name": "stdout",
     "output_type": "stream",
     "text": [
      "THE BEST SOLUTION IN GENERATION 6 IS: {'max_depth': 12, 'learning_rate': 0.07659821965048146, 'n_estimators': 186, 'objective': 'regression_l1'}\n"
     ]
    },
    {
     "name": "stderr",
     "output_type": "stream",
     "text": [
      "RUNNING GENERATION 7 | BEST SCORE IS 45410.97436604267:  23%|██▎       | 7/30 [01:48<06:20, 16.54s/it]"
     ]
    },
    {
     "name": "stdout",
     "output_type": "stream",
     "text": [
      "THE BEST SOLUTION IN GENERATION 7 IS: {'max_depth': 12, 'learning_rate': 0.07659821965048146, 'n_estimators': 186, 'objective': 'regression_l1'}\n"
     ]
    },
    {
     "name": "stderr",
     "output_type": "stream",
     "text": [
      "RUNNING GENERATION 8 | BEST SCORE IS 45410.97436604267:  27%|██▋       | 8/30 [02:05<06:07, 16.73s/it]"
     ]
    },
    {
     "name": "stdout",
     "output_type": "stream",
     "text": [
      "THE BEST SOLUTION IN GENERATION 8 IS: {'max_depth': 12, 'learning_rate': 0.07659821965048146, 'n_estimators': 186, 'objective': 'regression_l1'}\n"
     ]
    },
    {
     "name": "stderr",
     "output_type": "stream",
     "text": [
      "RUNNING GENERATION 9 | BEST SCORE IS 45410.97436604267:  30%|███       | 9/30 [02:23<06:00, 17.16s/it]"
     ]
    },
    {
     "name": "stdout",
     "output_type": "stream",
     "text": [
      "THE BEST SOLUTION IN GENERATION 9 IS: {'max_depth': 12, 'learning_rate': 0.07659821965048146, 'n_estimators': 186, 'objective': 'regression_l1'}\n"
     ]
    },
    {
     "name": "stderr",
     "output_type": "stream",
     "text": [
      "RUNNING GENERATION 10 | BEST SCORE IS 45410.97436604267:  33%|███▎      | 10/30 [02:43<05:57, 17.89s/it]"
     ]
    },
    {
     "name": "stdout",
     "output_type": "stream",
     "text": [
      "THE BEST SOLUTION IN GENERATION 10 IS: {'max_depth': 12, 'learning_rate': 0.07659821965048146, 'n_estimators': 186, 'objective': 'regression_l1'}\n"
     ]
    },
    {
     "name": "stderr",
     "output_type": "stream",
     "text": [
      "RUNNING GENERATION 11 | BEST SCORE IS 45410.97436604267:  37%|███▋      | 11/30 [03:02<05:47, 18.31s/it]"
     ]
    },
    {
     "name": "stdout",
     "output_type": "stream",
     "text": [
      "THE BEST SOLUTION IN GENERATION 11 IS: {'max_depth': 12, 'learning_rate': 0.07659821965048146, 'n_estimators': 186, 'objective': 'regression_l1'}\n"
     ]
    },
    {
     "name": "stderr",
     "output_type": "stream",
     "text": [
      "RUNNING GENERATION 12 | BEST SCORE IS 45389.063977776656:  40%|████      | 12/30 [03:20<05:28, 18.23s/it]"
     ]
    },
    {
     "name": "stdout",
     "output_type": "stream",
     "text": [
      "THE BEST SOLUTION IN GENERATION 12 IS: {'max_depth': 15, 'learning_rate': 0.07659821965048146, 'n_estimators': 186, 'objective': 'regression_l1'}\n"
     ]
    },
    {
     "name": "stderr",
     "output_type": "stream",
     "text": [
      "RUNNING GENERATION 13 | BEST SCORE IS 45169.47137451967:  43%|████▎     | 13/30 [03:38<05:10, 18.29s/it] "
     ]
    },
    {
     "name": "stdout",
     "output_type": "stream",
     "text": [
      "THE BEST SOLUTION IN GENERATION 13 IS: {'max_depth': 12, 'learning_rate': 0.07659821965048146, 'n_estimators': 197, 'objective': 'regression_l1'}\n"
     ]
    },
    {
     "name": "stderr",
     "output_type": "stream",
     "text": [
      "RUNNING GENERATION 14 | BEST SCORE IS 45169.47137451967:  47%|████▋     | 14/30 [03:58<04:57, 18.60s/it]"
     ]
    },
    {
     "name": "stdout",
     "output_type": "stream",
     "text": [
      "THE BEST SOLUTION IN GENERATION 14 IS: {'max_depth': 12, 'learning_rate': 0.07659821965048146, 'n_estimators': 197, 'objective': 'regression_l1'}\n"
     ]
    },
    {
     "name": "stderr",
     "output_type": "stream",
     "text": [
      "RUNNING GENERATION 15 | BEST SCORE IS 45126.554789602065:  50%|█████     | 15/30 [04:17<04:42, 18.84s/it]"
     ]
    },
    {
     "name": "stdout",
     "output_type": "stream",
     "text": [
      "THE BEST SOLUTION IN GENERATION 15 IS: {'max_depth': 12, 'learning_rate': 0.07659821965048146, 'n_estimators': 196, 'objective': 'regression_l1'}\n"
     ]
    },
    {
     "name": "stderr",
     "output_type": "stream",
     "text": [
      "RUNNING GENERATION 16 | BEST SCORE IS 45126.554789602065:  53%|█████▎    | 16/30 [04:37<04:28, 19.14s/it]"
     ]
    },
    {
     "name": "stdout",
     "output_type": "stream",
     "text": [
      "THE BEST SOLUTION IN GENERATION 16 IS: {'max_depth': 12, 'learning_rate': 0.07659821965048146, 'n_estimators': 196, 'objective': 'regression_l1'}\n"
     ]
    },
    {
     "name": "stderr",
     "output_type": "stream",
     "text": [
      "RUNNING GENERATION 17 | BEST SCORE IS 45126.554789602065:  57%|█████▋    | 17/30 [04:56<04:08, 19.13s/it]"
     ]
    },
    {
     "name": "stdout",
     "output_type": "stream",
     "text": [
      "THE BEST SOLUTION IN GENERATION 17 IS: {'max_depth': 12, 'learning_rate': 0.07659821965048146, 'n_estimators': 196, 'objective': 'regression_l1'}\n"
     ]
    },
    {
     "name": "stderr",
     "output_type": "stream",
     "text": [
      "RUNNING GENERATION 18 | BEST SCORE IS 45126.554789602065:  60%|██████    | 18/30 [05:16<03:51, 19.32s/it]"
     ]
    },
    {
     "name": "stdout",
     "output_type": "stream",
     "text": [
      "THE BEST SOLUTION IN GENERATION 18 IS: {'max_depth': 12, 'learning_rate': 0.07659821965048146, 'n_estimators': 196, 'objective': 'regression_l1'}\n"
     ]
    },
    {
     "name": "stderr",
     "output_type": "stream",
     "text": [
      "RUNNING GENERATION 19 | BEST SCORE IS 45126.554789602065:  63%|██████▎   | 19/30 [05:35<03:31, 19.23s/it]"
     ]
    },
    {
     "name": "stdout",
     "output_type": "stream",
     "text": [
      "THE BEST SOLUTION IN GENERATION 19 IS: {'max_depth': 12, 'learning_rate': 0.07659821965048146, 'n_estimators': 196, 'objective': 'regression_l1'}\n"
     ]
    },
    {
     "name": "stderr",
     "output_type": "stream",
     "text": [
      "RUNNING GENERATION 20 | BEST SCORE IS 45126.554789602065:  67%|██████▋   | 20/30 [05:54<03:11, 19.15s/it]"
     ]
    },
    {
     "name": "stdout",
     "output_type": "stream",
     "text": [
      "THE BEST SOLUTION IN GENERATION 20 IS: {'max_depth': 12, 'learning_rate': 0.07659821965048146, 'n_estimators': 196, 'objective': 'regression_l1'}\n"
     ]
    },
    {
     "name": "stderr",
     "output_type": "stream",
     "text": [
      "RUNNING GENERATION 21 | BEST SCORE IS 45126.554789602065:  70%|███████   | 21/30 [06:13<02:52, 19.15s/it]"
     ]
    },
    {
     "name": "stdout",
     "output_type": "stream",
     "text": [
      "THE BEST SOLUTION IN GENERATION 21 IS: {'max_depth': 12, 'learning_rate': 0.07659821965048146, 'n_estimators': 196, 'objective': 'regression_l1'}\n"
     ]
    },
    {
     "name": "stderr",
     "output_type": "stream",
     "text": [
      "RUNNING GENERATION 22 | BEST SCORE IS 45126.554789602065:  73%|███████▎  | 22/30 [06:33<02:34, 19.29s/it]"
     ]
    },
    {
     "name": "stdout",
     "output_type": "stream",
     "text": [
      "THE BEST SOLUTION IN GENERATION 22 IS: {'max_depth': 12, 'learning_rate': 0.07659821965048146, 'n_estimators': 196, 'objective': 'regression_l1'}\n"
     ]
    },
    {
     "name": "stderr",
     "output_type": "stream",
     "text": [
      "RUNNING GENERATION 23 | BEST SCORE IS 45126.554789602065:  77%|███████▋  | 23/30 [06:51<02:13, 19.14s/it]"
     ]
    },
    {
     "name": "stdout",
     "output_type": "stream",
     "text": [
      "THE BEST SOLUTION IN GENERATION 23 IS: {'max_depth': 12, 'learning_rate': 0.07659821965048146, 'n_estimators': 196, 'objective': 'regression_l1'}\n"
     ]
    },
    {
     "name": "stderr",
     "output_type": "stream",
     "text": [
      "RUNNING GENERATION 24 | BEST SCORE IS 45126.554789602065:  80%|████████  | 24/30 [07:11<01:55, 19.17s/it]"
     ]
    },
    {
     "name": "stdout",
     "output_type": "stream",
     "text": [
      "THE BEST SOLUTION IN GENERATION 24 IS: {'max_depth': 12, 'learning_rate': 0.07659821965048146, 'n_estimators': 196, 'objective': 'regression_l1'}\n"
     ]
    },
    {
     "name": "stderr",
     "output_type": "stream",
     "text": [
      "RUNNING GENERATION 25 | BEST SCORE IS 45126.554789602065:  83%|████████▎ | 25/30 [07:30<01:36, 19.35s/it]"
     ]
    },
    {
     "name": "stdout",
     "output_type": "stream",
     "text": [
      "THE BEST SOLUTION IN GENERATION 25 IS: {'max_depth': 12, 'learning_rate': 0.07659821965048146, 'n_estimators': 196, 'objective': 'regression_l1'}\n"
     ]
    },
    {
     "name": "stderr",
     "output_type": "stream",
     "text": [
      "RUNNING GENERATION 26 | BEST SCORE IS 45126.554789602065:  87%|████████▋ | 26/30 [07:49<01:17, 19.27s/it]"
     ]
    },
    {
     "name": "stdout",
     "output_type": "stream",
     "text": [
      "THE BEST SOLUTION IN GENERATION 26 IS: {'max_depth': 12, 'learning_rate': 0.07659821965048146, 'n_estimators': 196, 'objective': 'regression_l1'}\n"
     ]
    },
    {
     "name": "stderr",
     "output_type": "stream",
     "text": [
      "RUNNING GENERATION 27 | BEST SCORE IS 45126.554789602065:  90%|█████████ | 27/30 [08:10<00:59, 19.69s/it]"
     ]
    },
    {
     "name": "stdout",
     "output_type": "stream",
     "text": [
      "THE BEST SOLUTION IN GENERATION 27 IS: {'max_depth': 12, 'learning_rate': 0.07659821965048146, 'n_estimators': 196, 'objective': 'regression_l1'}\n"
     ]
    },
    {
     "name": "stderr",
     "output_type": "stream",
     "text": [
      "RUNNING GENERATION 28 | BEST SCORE IS 45126.554789602065:  93%|█████████▎| 28/30 [08:30<00:39, 19.85s/it]"
     ]
    },
    {
     "name": "stdout",
     "output_type": "stream",
     "text": [
      "THE BEST SOLUTION IN GENERATION 28 IS: {'max_depth': 12, 'learning_rate': 0.07659821965048146, 'n_estimators': 196, 'objective': 'regression_l1'}\n"
     ]
    },
    {
     "name": "stderr",
     "output_type": "stream",
     "text": [
      "RUNNING GENERATION 29 | BEST SCORE IS 45126.554789602065:  97%|█████████▋| 29/30 [08:51<00:19, 19.98s/it]"
     ]
    },
    {
     "name": "stdout",
     "output_type": "stream",
     "text": [
      "THE BEST SOLUTION IN GENERATION 29 IS: {'max_depth': 12, 'learning_rate': 0.07659821965048146, 'n_estimators': 196, 'objective': 'regression_l1'}\n"
     ]
    },
    {
     "name": "stderr",
     "output_type": "stream",
     "text": [
      "RUNNING GENERATION 30 | BEST SCORE IS 45126.554789602065: 100%|██████████| 30/30 [09:11<00:00, 18.37s/it]"
     ]
    },
    {
     "name": "stdout",
     "output_type": "stream",
     "text": [
      "THE BEST SOLUTION IN GENERATION 30 IS: {'max_depth': 12, 'learning_rate': 0.07659821965048146, 'n_estimators': 196, 'objective': 'regression_l1'}\n",
      "\n",
      "EXECUTION TIME=0 hours 09 minutes 19.602670 seconds\n",
      "BEST SCORE=45126.554789602065\n",
      "BEST INDIVIDUAL=[12, 0.07659821965048146, 196, 'regression_l1']\n",
      "BEST PER GENERATION:\n"
     ]
    },
    {
     "name": "stderr",
     "output_type": "stream",
     "text": [
      "\n"
     ]
    },
    {
     "data": {
      "text/html": [
       "<div>\n",
       "<style scoped>\n",
       "    .dataframe tbody tr th:only-of-type {\n",
       "        vertical-align: middle;\n",
       "    }\n",
       "\n",
       "    .dataframe tbody tr th {\n",
       "        vertical-align: top;\n",
       "    }\n",
       "\n",
       "    .dataframe thead th {\n",
       "        text-align: right;\n",
       "    }\n",
       "</style>\n",
       "<table border=\"1\" class=\"dataframe\">\n",
       "  <thead>\n",
       "    <tr style=\"text-align: right;\">\n",
       "      <th></th>\n",
       "      <th>GENERATION</th>\n",
       "      <th>BEST_SCORE</th>\n",
       "      <th>BEST_INDIVIDUAL</th>\n",
       "      <th>max_depth</th>\n",
       "      <th>learning_rate</th>\n",
       "      <th>n_estimators</th>\n",
       "      <th>objective</th>\n",
       "    </tr>\n",
       "  </thead>\n",
       "  <tbody>\n",
       "    <tr>\n",
       "      <th>14</th>\n",
       "      <td>15</td>\n",
       "      <td>45126.554790</td>\n",
       "      <td>[12, 0.07659821965048146, 196, regression_l1]</td>\n",
       "      <td>12</td>\n",
       "      <td>0.076598</td>\n",
       "      <td>196</td>\n",
       "      <td>regression_l1</td>\n",
       "    </tr>\n",
       "    <tr>\n",
       "      <th>27</th>\n",
       "      <td>28</td>\n",
       "      <td>45126.554790</td>\n",
       "      <td>[12, 0.07659821965048146, 196, regression_l1]</td>\n",
       "      <td>12</td>\n",
       "      <td>0.076598</td>\n",
       "      <td>196</td>\n",
       "      <td>regression_l1</td>\n",
       "    </tr>\n",
       "    <tr>\n",
       "      <th>26</th>\n",
       "      <td>27</td>\n",
       "      <td>45126.554790</td>\n",
       "      <td>[12, 0.07659821965048146, 196, regression_l1]</td>\n",
       "      <td>12</td>\n",
       "      <td>0.076598</td>\n",
       "      <td>196</td>\n",
       "      <td>regression_l1</td>\n",
       "    </tr>\n",
       "    <tr>\n",
       "      <th>25</th>\n",
       "      <td>26</td>\n",
       "      <td>45126.554790</td>\n",
       "      <td>[12, 0.07659821965048146, 196, regression_l1]</td>\n",
       "      <td>12</td>\n",
       "      <td>0.076598</td>\n",
       "      <td>196</td>\n",
       "      <td>regression_l1</td>\n",
       "    </tr>\n",
       "    <tr>\n",
       "      <th>24</th>\n",
       "      <td>25</td>\n",
       "      <td>45126.554790</td>\n",
       "      <td>[12, 0.07659821965048146, 196, regression_l1]</td>\n",
       "      <td>12</td>\n",
       "      <td>0.076598</td>\n",
       "      <td>196</td>\n",
       "      <td>regression_l1</td>\n",
       "    </tr>\n",
       "    <tr>\n",
       "      <th>23</th>\n",
       "      <td>24</td>\n",
       "      <td>45126.554790</td>\n",
       "      <td>[12, 0.07659821965048146, 196, regression_l1]</td>\n",
       "      <td>12</td>\n",
       "      <td>0.076598</td>\n",
       "      <td>196</td>\n",
       "      <td>regression_l1</td>\n",
       "    </tr>\n",
       "    <tr>\n",
       "      <th>22</th>\n",
       "      <td>23</td>\n",
       "      <td>45126.554790</td>\n",
       "      <td>[12, 0.07659821965048146, 196, regression_l1]</td>\n",
       "      <td>12</td>\n",
       "      <td>0.076598</td>\n",
       "      <td>196</td>\n",
       "      <td>regression_l1</td>\n",
       "    </tr>\n",
       "    <tr>\n",
       "      <th>21</th>\n",
       "      <td>22</td>\n",
       "      <td>45126.554790</td>\n",
       "      <td>[12, 0.07659821965048146, 196, regression_l1]</td>\n",
       "      <td>12</td>\n",
       "      <td>0.076598</td>\n",
       "      <td>196</td>\n",
       "      <td>regression_l1</td>\n",
       "    </tr>\n",
       "    <tr>\n",
       "      <th>20</th>\n",
       "      <td>21</td>\n",
       "      <td>45126.554790</td>\n",
       "      <td>[12, 0.07659821965048146, 196, regression_l1]</td>\n",
       "      <td>12</td>\n",
       "      <td>0.076598</td>\n",
       "      <td>196</td>\n",
       "      <td>regression_l1</td>\n",
       "    </tr>\n",
       "    <tr>\n",
       "      <th>19</th>\n",
       "      <td>20</td>\n",
       "      <td>45126.554790</td>\n",
       "      <td>[12, 0.07659821965048146, 196, regression_l1]</td>\n",
       "      <td>12</td>\n",
       "      <td>0.076598</td>\n",
       "      <td>196</td>\n",
       "      <td>regression_l1</td>\n",
       "    </tr>\n",
       "    <tr>\n",
       "      <th>18</th>\n",
       "      <td>19</td>\n",
       "      <td>45126.554790</td>\n",
       "      <td>[12, 0.07659821965048146, 196, regression_l1]</td>\n",
       "      <td>12</td>\n",
       "      <td>0.076598</td>\n",
       "      <td>196</td>\n",
       "      <td>regression_l1</td>\n",
       "    </tr>\n",
       "    <tr>\n",
       "      <th>17</th>\n",
       "      <td>18</td>\n",
       "      <td>45126.554790</td>\n",
       "      <td>[12, 0.07659821965048146, 196, regression_l1]</td>\n",
       "      <td>12</td>\n",
       "      <td>0.076598</td>\n",
       "      <td>196</td>\n",
       "      <td>regression_l1</td>\n",
       "    </tr>\n",
       "    <tr>\n",
       "      <th>16</th>\n",
       "      <td>17</td>\n",
       "      <td>45126.554790</td>\n",
       "      <td>[12, 0.07659821965048146, 196, regression_l1]</td>\n",
       "      <td>12</td>\n",
       "      <td>0.076598</td>\n",
       "      <td>196</td>\n",
       "      <td>regression_l1</td>\n",
       "    </tr>\n",
       "    <tr>\n",
       "      <th>15</th>\n",
       "      <td>16</td>\n",
       "      <td>45126.554790</td>\n",
       "      <td>[12, 0.07659821965048146, 196, regression_l1]</td>\n",
       "      <td>12</td>\n",
       "      <td>0.076598</td>\n",
       "      <td>196</td>\n",
       "      <td>regression_l1</td>\n",
       "    </tr>\n",
       "    <tr>\n",
       "      <th>29</th>\n",
       "      <td>30</td>\n",
       "      <td>45126.554790</td>\n",
       "      <td>[12, 0.07659821965048146, 196, regression_l1]</td>\n",
       "      <td>12</td>\n",
       "      <td>0.076598</td>\n",
       "      <td>196</td>\n",
       "      <td>regression_l1</td>\n",
       "    </tr>\n",
       "    <tr>\n",
       "      <th>28</th>\n",
       "      <td>29</td>\n",
       "      <td>45126.554790</td>\n",
       "      <td>[12, 0.07659821965048146, 196, regression_l1]</td>\n",
       "      <td>12</td>\n",
       "      <td>0.076598</td>\n",
       "      <td>196</td>\n",
       "      <td>regression_l1</td>\n",
       "    </tr>\n",
       "    <tr>\n",
       "      <th>13</th>\n",
       "      <td>14</td>\n",
       "      <td>45169.471375</td>\n",
       "      <td>[12, 0.07659821965048146, 197, regression_l1]</td>\n",
       "      <td>12</td>\n",
       "      <td>0.076598</td>\n",
       "      <td>197</td>\n",
       "      <td>regression_l1</td>\n",
       "    </tr>\n",
       "    <tr>\n",
       "      <th>12</th>\n",
       "      <td>13</td>\n",
       "      <td>45169.471375</td>\n",
       "      <td>[12, 0.07659821965048146, 197, regression_l1]</td>\n",
       "      <td>12</td>\n",
       "      <td>0.076598</td>\n",
       "      <td>197</td>\n",
       "      <td>regression_l1</td>\n",
       "    </tr>\n",
       "    <tr>\n",
       "      <th>11</th>\n",
       "      <td>12</td>\n",
       "      <td>45389.063978</td>\n",
       "      <td>[15, 0.07659821965048146, 186, regression_l1]</td>\n",
       "      <td>15</td>\n",
       "      <td>0.076598</td>\n",
       "      <td>186</td>\n",
       "      <td>regression_l1</td>\n",
       "    </tr>\n",
       "    <tr>\n",
       "      <th>10</th>\n",
       "      <td>11</td>\n",
       "      <td>45410.974366</td>\n",
       "      <td>[12, 0.07659821965048146, 186, regression_l1]</td>\n",
       "      <td>12</td>\n",
       "      <td>0.076598</td>\n",
       "      <td>186</td>\n",
       "      <td>regression_l1</td>\n",
       "    </tr>\n",
       "    <tr>\n",
       "      <th>9</th>\n",
       "      <td>10</td>\n",
       "      <td>45410.974366</td>\n",
       "      <td>[12, 0.07659821965048146, 186, regression_l1]</td>\n",
       "      <td>12</td>\n",
       "      <td>0.076598</td>\n",
       "      <td>186</td>\n",
       "      <td>regression_l1</td>\n",
       "    </tr>\n",
       "    <tr>\n",
       "      <th>8</th>\n",
       "      <td>9</td>\n",
       "      <td>45410.974366</td>\n",
       "      <td>[12, 0.07659821965048146, 186, regression_l1]</td>\n",
       "      <td>12</td>\n",
       "      <td>0.076598</td>\n",
       "      <td>186</td>\n",
       "      <td>regression_l1</td>\n",
       "    </tr>\n",
       "    <tr>\n",
       "      <th>7</th>\n",
       "      <td>8</td>\n",
       "      <td>45410.974366</td>\n",
       "      <td>[12, 0.07659821965048146, 186, regression_l1]</td>\n",
       "      <td>12</td>\n",
       "      <td>0.076598</td>\n",
       "      <td>186</td>\n",
       "      <td>regression_l1</td>\n",
       "    </tr>\n",
       "    <tr>\n",
       "      <th>6</th>\n",
       "      <td>7</td>\n",
       "      <td>45410.974366</td>\n",
       "      <td>[12, 0.07659821965048146, 186, regression_l1]</td>\n",
       "      <td>12</td>\n",
       "      <td>0.076598</td>\n",
       "      <td>186</td>\n",
       "      <td>regression_l1</td>\n",
       "    </tr>\n",
       "    <tr>\n",
       "      <th>5</th>\n",
       "      <td>6</td>\n",
       "      <td>45410.974366</td>\n",
       "      <td>[12, 0.07659821965048146, 186, regression_l1]</td>\n",
       "      <td>12</td>\n",
       "      <td>0.076598</td>\n",
       "      <td>186</td>\n",
       "      <td>regression_l1</td>\n",
       "    </tr>\n",
       "    <tr>\n",
       "      <th>4</th>\n",
       "      <td>5</td>\n",
       "      <td>45430.725128</td>\n",
       "      <td>[12, 0.07659821965048146, 163, regression_l1]</td>\n",
       "      <td>12</td>\n",
       "      <td>0.076598</td>\n",
       "      <td>163</td>\n",
       "      <td>regression_l1</td>\n",
       "    </tr>\n",
       "    <tr>\n",
       "      <th>3</th>\n",
       "      <td>4</td>\n",
       "      <td>45430.725128</td>\n",
       "      <td>[12, 0.07659821965048146, 163, regression_l1]</td>\n",
       "      <td>12</td>\n",
       "      <td>0.076598</td>\n",
       "      <td>163</td>\n",
       "      <td>regression_l1</td>\n",
       "    </tr>\n",
       "    <tr>\n",
       "      <th>2</th>\n",
       "      <td>3</td>\n",
       "      <td>45430.725128</td>\n",
       "      <td>[12, 0.07659821965048146, 163, regression_l1]</td>\n",
       "      <td>12</td>\n",
       "      <td>0.076598</td>\n",
       "      <td>163</td>\n",
       "      <td>regression_l1</td>\n",
       "    </tr>\n",
       "    <tr>\n",
       "      <th>1</th>\n",
       "      <td>2</td>\n",
       "      <td>45862.334338</td>\n",
       "      <td>[13, 0.06620300076589586, 186, regression_l1]</td>\n",
       "      <td>13</td>\n",
       "      <td>0.066203</td>\n",
       "      <td>186</td>\n",
       "      <td>regression_l1</td>\n",
       "    </tr>\n",
       "    <tr>\n",
       "      <th>0</th>\n",
       "      <td>1</td>\n",
       "      <td>45983.060675</td>\n",
       "      <td>[9, 0.06121366351882034, 163, regression_l1]</td>\n",
       "      <td>9</td>\n",
       "      <td>0.061214</td>\n",
       "      <td>163</td>\n",
       "      <td>regression_l1</td>\n",
       "    </tr>\n",
       "  </tbody>\n",
       "</table>\n",
       "</div>"
      ],
      "text/plain": [
       "    GENERATION    BEST_SCORE                                BEST_INDIVIDUAL  \\\n",
       "14          15  45126.554790  [12, 0.07659821965048146, 196, regression_l1]   \n",
       "27          28  45126.554790  [12, 0.07659821965048146, 196, regression_l1]   \n",
       "26          27  45126.554790  [12, 0.07659821965048146, 196, regression_l1]   \n",
       "25          26  45126.554790  [12, 0.07659821965048146, 196, regression_l1]   \n",
       "24          25  45126.554790  [12, 0.07659821965048146, 196, regression_l1]   \n",
       "23          24  45126.554790  [12, 0.07659821965048146, 196, regression_l1]   \n",
       "22          23  45126.554790  [12, 0.07659821965048146, 196, regression_l1]   \n",
       "21          22  45126.554790  [12, 0.07659821965048146, 196, regression_l1]   \n",
       "20          21  45126.554790  [12, 0.07659821965048146, 196, regression_l1]   \n",
       "19          20  45126.554790  [12, 0.07659821965048146, 196, regression_l1]   \n",
       "18          19  45126.554790  [12, 0.07659821965048146, 196, regression_l1]   \n",
       "17          18  45126.554790  [12, 0.07659821965048146, 196, regression_l1]   \n",
       "16          17  45126.554790  [12, 0.07659821965048146, 196, regression_l1]   \n",
       "15          16  45126.554790  [12, 0.07659821965048146, 196, regression_l1]   \n",
       "29          30  45126.554790  [12, 0.07659821965048146, 196, regression_l1]   \n",
       "28          29  45126.554790  [12, 0.07659821965048146, 196, regression_l1]   \n",
       "13          14  45169.471375  [12, 0.07659821965048146, 197, regression_l1]   \n",
       "12          13  45169.471375  [12, 0.07659821965048146, 197, regression_l1]   \n",
       "11          12  45389.063978  [15, 0.07659821965048146, 186, regression_l1]   \n",
       "10          11  45410.974366  [12, 0.07659821965048146, 186, regression_l1]   \n",
       "9           10  45410.974366  [12, 0.07659821965048146, 186, regression_l1]   \n",
       "8            9  45410.974366  [12, 0.07659821965048146, 186, regression_l1]   \n",
       "7            8  45410.974366  [12, 0.07659821965048146, 186, regression_l1]   \n",
       "6            7  45410.974366  [12, 0.07659821965048146, 186, regression_l1]   \n",
       "5            6  45410.974366  [12, 0.07659821965048146, 186, regression_l1]   \n",
       "4            5  45430.725128  [12, 0.07659821965048146, 163, regression_l1]   \n",
       "3            4  45430.725128  [12, 0.07659821965048146, 163, regression_l1]   \n",
       "2            3  45430.725128  [12, 0.07659821965048146, 163, regression_l1]   \n",
       "1            2  45862.334338  [13, 0.06620300076589586, 186, regression_l1]   \n",
       "0            1  45983.060675   [9, 0.06121366351882034, 163, regression_l1]   \n",
       "\n",
       "    max_depth  learning_rate  n_estimators      objective  \n",
       "14         12       0.076598           196  regression_l1  \n",
       "27         12       0.076598           196  regression_l1  \n",
       "26         12       0.076598           196  regression_l1  \n",
       "25         12       0.076598           196  regression_l1  \n",
       "24         12       0.076598           196  regression_l1  \n",
       "23         12       0.076598           196  regression_l1  \n",
       "22         12       0.076598           196  regression_l1  \n",
       "21         12       0.076598           196  regression_l1  \n",
       "20         12       0.076598           196  regression_l1  \n",
       "19         12       0.076598           196  regression_l1  \n",
       "18         12       0.076598           196  regression_l1  \n",
       "17         12       0.076598           196  regression_l1  \n",
       "16         12       0.076598           196  regression_l1  \n",
       "15         12       0.076598           196  regression_l1  \n",
       "29         12       0.076598           196  regression_l1  \n",
       "28         12       0.076598           196  regression_l1  \n",
       "13         12       0.076598           197  regression_l1  \n",
       "12         12       0.076598           197  regression_l1  \n",
       "11         15       0.076598           186  regression_l1  \n",
       "10         12       0.076598           186  regression_l1  \n",
       "9          12       0.076598           186  regression_l1  \n",
       "8          12       0.076598           186  regression_l1  \n",
       "7          12       0.076598           186  regression_l1  \n",
       "6          12       0.076598           186  regression_l1  \n",
       "5          12       0.076598           186  regression_l1  \n",
       "4          12       0.076598           163  regression_l1  \n",
       "3          12       0.076598           163  regression_l1  \n",
       "2          12       0.076598           163  regression_l1  \n",
       "1          13       0.066203           186  regression_l1  \n",
       "0           9       0.061214           163  regression_l1  "
      ]
     },
     "metadata": {},
     "output_type": "display_data"
    }
   ],
   "source": [
    "genetist = Genetist(\n",
    "    params=params_space,\n",
    "    num_population=30,\n",
    "    generations=30,\n",
    "    elite_rate=0.1,\n",
    "    prob_mutation=0.1,\n",
    ")\n",
    "\n",
    "results = genetist.optimize(objective=objective, direction='minimize')\n",
    "\n",
    "print()\n",
    "print(f'EXECUTION TIME={results.execution_time}')\n",
    "print(f'BEST SCORE={results.best_score}')\n",
    "print(f'BEST INDIVIDUAL={results.best_individual}')\n",
    "print('BEST PER GENERATION:')\n",
    "display(results.best_per_generation_dataframe)"
   ]
  },
  {
   "cell_type": "code",
   "execution_count": 5,
   "id": "10a38720",
   "metadata": {},
   "outputs": [
    {
     "data": {
      "text/plain": [
       "<AxesSubplot:>"
      ]
     },
     "execution_count": 5,
     "metadata": {},
     "output_type": "execute_result"
    },
    {
     "data": {
      "image/png": "[encoded data removed]",
      "text/plain": [
       "<Figure size 864x432 with 1 Axes>"
      ]
     },
     "metadata": {
      "needs_background": "light"
     },
     "output_type": "display_data"
    }
   ],
   "source": [
    "df_plot = results.best_per_generation_dataframe.sort_values(by=['GENERATION'])\n",
    "df_plot.BEST_SCORE.plot(figsize=(12,6))"
   ]
  },
  {
   "cell_type": "code",
   "execution_count": null,
   "id": "825a0b83",
   "metadata": {},
   "outputs": [],
   "source": []
  }
 ],
 "metadata": {
  "kernelspec": {
   "display_name": "ml",
   "language": "python",
   "name": "ml"
  },
  "language_info": {
   "codemirror_mode": {
    "name": "ipython",
    "version": 3
   },
   "file_extension": ".py",
   "mimetype": "text/x-python",
   "name": "python",
   "nbconvert_exporter": "python",
   "pygments_lexer": "ipython3",
   "version": "3.8.0"
  }
 },
 "nbformat": 4,
 "nbformat_minor": 5
}
