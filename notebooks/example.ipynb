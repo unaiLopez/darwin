{
 "cells": [
  {
   "cell_type": "code",
   "execution_count": 49,
   "id": "8ab3cc72",
   "metadata": {},
   "outputs": [],
   "source": [
    "import sys\n",
    "import os\n",
    "\n",
    "import pandas as pd\n",
    "import warnings\n",
    "warnings.filterwarnings('ignore')\n",
    "\n",
    "sys.path.append(f'{os.getcwd()}/../src')\n",
    "                \n",
    "from Genetist import Genetist"
   ]
  },
  {
   "cell_type": "code",
   "execution_count": 50,
   "id": "b9c7906c",
   "metadata": {},
   "outputs": [],
   "source": [
    "from sklearn.datasets import load_breast_cancer\n",
    "from sklearn.model_selection import train_test_split\n",
    "from sklearn.metrics import accuracy_score\n",
    "from sklearn.neighbors import KNeighborsClassifier"
   ]
  },
  {
   "cell_type": "code",
   "execution_count": 51,
   "id": "b3b05ad1",
   "metadata": {},
   "outputs": [],
   "source": [
    "params = {\n",
    "    'leaf_size': list(range(1,50)),\n",
    "    'n_neighbors': list(range(2, 100)),\n",
    "    'p': [1, 2, 3],\n",
    "    'weights': ['uniform', 'distance'],\n",
    "    'algorithm': ['auto', 'ball_tree', 'kd_tree', 'brute']\n",
    "}\n",
    "\n",
    "def objective(individual):\n",
    "    data = load_breast_cancer()\n",
    "    X = pd.DataFrame(data.data)\n",
    "    y = pd.Series(data.target)\n",
    "\n",
    "    X_train, X_test, y_train, y_test = train_test_split(X, y, test_size=0.2, random_state=42)\n",
    "    \n",
    "    leaf_size = individual['leaf_size']\n",
    "    n_neighbors = individual['n_neighbors']\n",
    "    p = individual['p']\n",
    "    weights = individual['weights']\n",
    "    algorithm = individual['algorithm']\n",
    "    \n",
    "    \n",
    "    model = KNeighborsClassifier(leaf_size=leaf_size, n_neighbors=n_neighbors, p=p, weights=weights, algorithm=algorithm)\n",
    "    model.fit(X_train, y_train)\n",
    "    predictions = model.predict(X_test)\n",
    "    accuracy = accuracy_score(y_test, predictions)\n",
    "    \n",
    "    return accuracy"
   ]
  },
  {
   "cell_type": "code",
   "execution_count": null,
   "id": "707320a6",
   "metadata": {
    "scrolled": false
   },
   "outputs": [
    {
     "name": "stderr",
     "output_type": "stream",
     "text": [
      " 75%|███████████████████████████████████████████████████████████████████████████████████████████████████████████████████████████▊                                         | 75/100 [00:44<00:13,  1.81it/s]"
     ]
    }
   ],
   "source": [
    "genetist = Genetist(\n",
    "    objective=objective,\n",
    "    params=params,\n",
    "    num_population=20,\n",
    "    generations=100,\n",
    "    prob_mutation=0.1,\n",
    "    direction='maximize',\n",
    "    verbose=False\n",
    ")\n",
    "\n",
    "results = genetist.run_evolution()\n",
    "\n",
    "print()\n",
    "print(f'EXECUTION TIME={results.execution_time}')\n",
    "print(f'BEST SCORE={results.best_score}')\n",
    "print(f'BEST INDIVIDUAL={results.best_individual}')\n",
    "print('BEST PER GENERATION:')\n",
    "display(results.best_per_generation_dataframe)"
   ]
  },
  {
   "cell_type": "code",
   "execution_count": null,
   "id": "0d1382fd",
   "metadata": {},
   "outputs": [],
   "source": []
  }
 ],
 "metadata": {
  "kernelspec": {
   "display_name": "ml",
   "language": "python",
   "name": "ml"
  },
  "language_info": {
   "codemirror_mode": {
    "name": "ipython",
    "version": 3
   },
   "file_extension": ".py",
   "mimetype": "text/x-python",
   "name": "python",
   "nbconvert_exporter": "python",
   "pygments_lexer": "ipython3",
   "version": "3.8.0"
  }
 },
 "nbformat": 4,
 "nbformat_minor": 5
}
