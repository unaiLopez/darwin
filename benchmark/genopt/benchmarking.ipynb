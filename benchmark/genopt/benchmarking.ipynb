{
 "cells": [
  {
   "cell_type": "code",
   "execution_count": 2,
   "id": "aa8efce7",
   "metadata": {},
   "outputs": [
    {
     "ename": "ModuleNotFoundError",
     "evalue": "No module named 'matplotlib'",
     "output_type": "error",
     "traceback": [
      "\u001b[0;31m---------------------------------------------------------------------------\u001b[0m",
      "\u001b[0;31mModuleNotFoundError\u001b[0m                       Traceback (most recent call last)",
      "Input \u001b[0;32mIn [2]\u001b[0m, in \u001b[0;36m<cell line: 4>\u001b[0;34m()\u001b[0m\n\u001b[1;32m      1\u001b[0m \u001b[38;5;28;01mfrom\u001b[39;00m \u001b[38;5;21;01mgenopt\u001b[39;00m\u001b[38;5;21;01m.\u001b[39;00m\u001b[38;5;21;01menvironment\u001b[39;00m \u001b[38;5;28;01mimport\u001b[39;00m Environment\n\u001b[1;32m      2\u001b[0m \u001b[38;5;28;01mfrom\u001b[39;00m \u001b[38;5;21;01mgenopt\u001b[39;00m\u001b[38;5;21;01m.\u001b[39;00m\u001b[38;5;21;01mparameters\u001b[39;00m \u001b[38;5;28;01mimport\u001b[39;00m Parameters\n\u001b[0;32m----> 4\u001b[0m \u001b[38;5;28;01mimport\u001b[39;00m \u001b[38;5;21;01mmatplotlib\u001b[39;00m\u001b[38;5;21;01m.\u001b[39;00m\u001b[38;5;21;01mpyplot\u001b[39;00m \u001b[38;5;28;01mas\u001b[39;00m \u001b[38;5;21;01mplt\u001b[39;00m\n",
      "\u001b[0;31mModuleNotFoundError\u001b[0m: No module named 'matplotlib'"
     ]
    }
   ],
   "source": [
    "from genopt.environment import Environment\n",
    "from genopt.parameters import Parameters\n",
    "\n",
    "import matplotlib.pyplot as plt"
   ]
  },
  {
   "cell_type": "markdown",
   "id": "d1526cdd",
   "metadata": {},
   "source": [
    "# EQUATION SOLVING\n",
    "In this section we different equations will be solved. Due to the stochaistic nature of genopt, each equation will be solved 5 times and the average of the scores will be calculated."
   ]
  },
  {
   "cell_type": "code",
   "execution_count": 6,
   "id": "65341899",
   "metadata": {},
   "outputs": [],
   "source": [
    "attemps = 5\n",
    "optimization_time = 60\n",
    "optimization_direction = 'minimize'"
   ]
  },
  {
   "cell_type": "markdown",
   "id": "25aafe89",
   "metadata": {},
   "source": [
    "## 1. EQUATION"
   ]
  },
  {
   "cell_type": "code",
   "execution_count": 7,
   "id": "39a714fa",
   "metadata": {},
   "outputs": [],
   "source": [
    "params = {\n",
    "    'x': Parameters.suggest_float(-100, 100),\n",
    "    'y': Parameters.suggest_float(-100, 100),\n",
    "    'z': Parameters.suggest_float(-100, 100),\n",
    "    'k': Parameters.suggest_float(-100, 100)\n",
    "}\n",
    "\n",
    "def objective(individual):\n",
    "    x = individual['x']\n",
    "    y = individual['y']\n",
    "    z = individual['z']\n",
    "    k = individual['k']\n",
    "\n",
    "    return (x**2 - 4*y**3 / z**4) * k**3"
   ]
  },
  {
   "cell_type": "code",
   "execution_count": null,
   "id": "d2609fb2",
   "metadata": {},
   "outputs": [],
   "source": [
    "best_scores = list()\n",
    "best_scores_evolutions = list()\n",
    "for _ in range(attemps):\n",
    "\n",
    "    environment = Environment(\n",
    "        params=params,\n",
    "        verbose=0\n",
    "    )\n",
    "    results = environment.optimize(objective=objective, direction=optimization_direction, timeout=optimization_time)\n",
    "    \n",
    "    best_score = results.best_score\n",
    "    best_score_evolution = results.best_per_generation_dataframe['best_score'].values\n",
    "    best_scores.append(best_score)\n",
    "    best_scores_evolutions.append(best_score_evolution)    "
   ]
  },
  {
   "cell_type": "code",
   "execution_count": null,
   "id": "30ce36b0",
   "metadata": {},
   "outputs": [],
   "source": [
    "environment = Environment"
   ]
  }
 ],
 "metadata": {
  "kernelspec": {
   "display_name": "base",
   "language": "python",
   "name": "base"
  },
  "language_info": {
   "codemirror_mode": {
    "name": "ipython",
    "version": 3
   },
   "file_extension": ".py",
   "mimetype": "text/x-python",
   "name": "python",
   "nbconvert_exporter": "python",
   "pygments_lexer": "ipython3",
   "version": "3.9.5"
  }
 },
 "nbformat": 4,
 "nbformat_minor": 5
}
