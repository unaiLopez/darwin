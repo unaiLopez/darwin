{
 "cells": [
  {
   "cell_type": "code",
   "execution_count": 50,
   "id": "906521b8",
   "metadata": {
    "scrolled": true
   },
   "outputs": [],
   "source": [
    "from genopt.environment import Environment\n",
    "from genopt.parameters import Parameters\n",
    "\n",
    "import logging\n",
    "\n",
    "logger = logging.getLogger('no_spam')\n",
    "logger.setLevel(logging.INFO)\n",
    "\n",
    "import matplotlib.pyplot as plt\n",
    "import numpy as np"
   ]
  },
  {
   "cell_type": "markdown",
   "id": "cba45122",
   "metadata": {},
   "source": [
    "# EQUATION SOLVING\n",
    "In this section we different equations will be solved. Due to the stochaistic nature of genopt, each equation will be solved 5 times and the average of the scores will be calculated."
   ]
  },
  {
   "cell_type": "code",
   "execution_count": 67,
   "id": "fe99ae00",
   "metadata": {},
   "outputs": [],
   "source": [
    "iterations = 5\n",
    "optimization_time = 12\n",
    "optimization_direction = 'minimize'"
   ]
  },
  {
   "cell_type": "markdown",
   "id": "5df93051",
   "metadata": {},
   "source": [
    "## 1. EQUATION"
   ]
  },
  {
   "cell_type": "code",
   "execution_count": 60,
   "id": "918b29f8",
   "metadata": {},
   "outputs": [],
   "source": [
    "params = {\n",
    "    'x': Parameters.suggest_float(-100, 100),\n",
    "    'y': Parameters.suggest_float(-100, 100),\n",
    "    'z': Parameters.suggest_float(-100, 100),\n",
    "    'k': Parameters.suggest_float(-100, 100)\n",
    "}\n",
    "\n",
    "def objective(individual):\n",
    "    x = individual['x']\n",
    "    y = individual['y']\n",
    "    z = individual['z']\n",
    "    k = individual['k']\n",
    "\n",
    "    return (x**2 - 4*y**3 / z**4) * k**3"
   ]
  },
  {
   "cell_type": "code",
   "execution_count": 61,
   "id": "a8b09959",
   "metadata": {},
   "outputs": [
    {
     "name": "stdout",
     "output_type": "stream",
     "text": [
      "ITERATION 1\n",
      "ITERATION 2\n",
      "ITERATION 3\n",
      "ITERATION 4\n",
      "ITERATION 5\n"
     ]
    }
   ],
   "source": [
    "best_scores = list()\n",
    "best_scores_evolutions = list()\n",
    "for iteration in range(iterations):\n",
    "    print(f'ITERATION {iteration + 1}')\n",
    "    environment = Environment(\n",
    "        params=params,\n",
    "        verbose=0\n",
    "    )\n",
    "    results = environment.optimize(objective=objective, direction=optimization_direction, timeout=optimization_time)\n",
    "    \n",
    "    best_score = results.best_score\n",
    "    best_score_evolution = list(reversed(results.best_per_generation_dataframe['best_score'].values))\n",
    "    best_scores.append(best_score)\n",
    "    best_scores_evolutions.append(best_score_evolution)"
   ]
  },
  {
   "cell_type": "code",
   "execution_count": 62,
   "id": "0546bfdb",
   "metadata": {},
   "outputs": [
    {
     "name": "stdout",
     "output_type": "stream",
     "text": [
      "BEST SCORES: [-9.784457226929366e+21, -5.593052897256293e+26, -2.9840088078364353e+25, -1.1379126409675103e+23, -9.359428900646768e+22]\n",
      "MEAN BEST SCORE: -1.1787250956286476e+26\n",
      "MAX SCORE: -9.784457226929366e+21\n",
      "MIN SCORE: -5.593052897256293e+26\n",
      "STD SCORES: 2.210172921843152e+26\n"
     ]
    }
   ],
   "source": [
    "print(f'BEST SCORES: {best_scores}')\n",
    "print(f'MEAN BEST SCORE: {np.mean(best_scores)}')\n",
    "print(f'MAX SCORE: {np.max(best_scores)}')\n",
    "print(f'MIN SCORE: {np.min(best_scores)}')\n",
    "print(f'STD SCORES: {np.std(best_scores)}')"
   ]
  },
  {
   "cell_type": "code",
   "execution_count": 55,
   "id": "1f4dd136",
   "metadata": {},
   "outputs": [
    {
     "data": {
      "image/png": "[encoded data removed]",
      "text/plain": [
       "<Figure size 1440x720 with 1 Axes>"
      ]
     },
     "metadata": {
      "needs_background": "light"
     },
     "output_type": "display_data"
    }
   ],
   "source": [
    "fig = plt.figure(figsize=(20,10))\n",
    "legend = list()\n",
    "for iteration, best_score_iteration in enumerate(best_scores_evolutions):\n",
    "    plt.plot(best_score_iteration)\n",
    "    legend.append(f'ITERATION {iteration + 1}')\n",
    "plt.legend(legend)\n",
    "plt.grid()\n",
    "plt.show()"
   ]
  },
  {
   "cell_type": "markdown",
   "id": "2bb29424",
   "metadata": {},
   "source": [
    "## 2. EQUATION"
   ]
  },
  {
   "cell_type": "code",
   "execution_count": 63,
   "id": "14b81c9b",
   "metadata": {},
   "outputs": [],
   "source": [
    "params = {\n",
    "    'x': Parameters.suggest_float(-100, 100),\n",
    "    'y': Parameters.suggest_float(-100, 100),\n",
    "    'z': Parameters.suggest_float(-100, 100),\n",
    "    'k': Parameters.suggest_float(-100, 100)\n",
    "}\n",
    "\n",
    "def objective(individual):\n",
    "    x = individual['x']\n",
    "    y = individual['y']\n",
    "    z = individual['z']\n",
    "    k = individual['k']\n",
    "\n",
    "    return np.cos(x) * np.cos(y) * np.cos(z) * np.cos(k)"
   ]
  },
  {
   "cell_type": "code",
   "execution_count": 64,
   "id": "a6786663",
   "metadata": {},
   "outputs": [
    {
     "name": "stdout",
     "output_type": "stream",
     "text": [
      "ITERATION 1\n",
      "ITERATION 2\n",
      "ITERATION 3\n",
      "ITERATION 4\n",
      "ITERATION 5\n"
     ]
    }
   ],
   "source": [
    "best_scores = list()\n",
    "best_scores_evolutions = list()\n",
    "for iteration in range(iterations):\n",
    "    print(f'ITERATION {iteration + 1}')\n",
    "    environment = Environment(\n",
    "        params=params,\n",
    "        verbose=0\n",
    "    )\n",
    "    results = environment.optimize(objective=objective, direction=optimization_direction, timeout=optimization_time)\n",
    "    \n",
    "    best_score = results.best_score\n",
    "    best_score_evolution = list(reversed(results.best_per_generation_dataframe['best_score'].values))\n",
    "    best_scores.append(best_score)\n",
    "    best_scores_evolutions.append(best_score_evolution)"
   ]
  },
  {
   "cell_type": "code",
   "execution_count": 65,
   "id": "b9d5cd6c",
   "metadata": {},
   "outputs": [
    {
     "name": "stdout",
     "output_type": "stream",
     "text": [
      "BEST SCORES: [-0.9999571540854071, -0.9999957291085184, -0.9999830982612101, -0.999935191839478, -0.9999685058665505]\n",
      "MEAN BEST SCORE: -0.9999679358322329\n",
      "MAX SCORE: -0.999935191839478\n",
      "MIN SCORE: -0.9999957291085184\n",
      "STD SCORES: 2.0933731270107305e-05\n"
     ]
    }
   ],
   "source": [
    "print(f'BEST SCORES: {best_scores}')\n",
    "print(f'MEAN BEST SCORE: {np.mean(best_scores)}')\n",
    "print(f'MAX SCORE: {np.max(best_scores)}')\n",
    "print(f'MIN SCORE: {np.min(best_scores)}')\n",
    "print(f'STD SCORES: {np.std(best_scores)}')"
   ]
  },
  {
   "cell_type": "code",
   "execution_count": 66,
   "id": "711f85e4",
   "metadata": {},
   "outputs": [
    {
     "data": {
      "image/png": "[encoded data removed]",
      "text/plain": [
       "<Figure size 1440x720 with 1 Axes>"
      ]
     },
     "metadata": {
      "needs_background": "light"
     },
     "output_type": "display_data"
    }
   ],
   "source": [
    "fig = plt.figure(figsize=(20,10))\n",
    "legend = list()\n",
    "for iteration, best_score_iteration in enumerate(best_scores_evolutions):\n",
    "    plt.plot(best_score_iteration)\n",
    "    legend.append(f'ITERATION {iteration + 1}')\n",
    "plt.legend(legend)\n",
    "plt.grid()\n",
    "plt.show()"
   ]
  },
  {
   "cell_type": "markdown",
   "id": "ea436e96",
   "metadata": {},
   "source": [
    "# RESULTS"
   ]
  },
  {
   "cell_type": "markdown",
   "id": "b6c5b7a6",
   "metadata": {},
   "source": [
    "| EQUATIONS   | BEST_SCORE             | WORST_SCORE            | MEAN_SCORE              | STD_SCORES             |\n",
    "|-------------|------------------------|------------------------|-------------------------|------------------------|\n",
    "| 1. EQUATION | -5.593052897256293e+26 | -9.784457226929366e+21 | -1.1787250956286476e+26 | 2.210172921843152e+26  |\n",
    "| 2. EQUATION | -0.9999957291085184    | -0.999935191839478     | -0.9999679358322329     | 2.0933731270107305e-05 |"
   ]
  },
  {
   "cell_type": "code",
   "execution_count": null,
   "id": "36c95aaf",
   "metadata": {},
   "outputs": [],
   "source": []
  }
 ],
 "metadata": {
  "kernelspec": {
   "display_name": "base",
   "language": "python",
   "name": "base"
  },
  "language_info": {
   "codemirror_mode": {
    "name": "ipython",
    "version": 3
   },
   "file_extension": ".py",
   "mimetype": "text/x-python",
   "name": "python",
   "nbconvert_exporter": "python",
   "pygments_lexer": "ipython3",
   "version": "3.9.5"
  }
 },
 "nbformat": 4,
 "nbformat_minor": 5
}
